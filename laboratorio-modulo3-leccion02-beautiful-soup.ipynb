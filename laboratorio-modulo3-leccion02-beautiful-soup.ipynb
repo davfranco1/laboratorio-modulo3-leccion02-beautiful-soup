{
 "cells": [
  {
   "cell_type": "markdown",
   "metadata": {},
   "source": [
    "<div style=\"text-align: center;\">\n",
    "  <img src=\"https://github.com/Hack-io-Data/Imagenes/blob/main/01-LogosHackio/logo_naranja@4x.png?raw=true\" alt=\"esquema\" />\n",
    "</div>"
   ]
  },
  {
   "cell_type": "markdown",
   "metadata": {},
   "source": [
    "## Contexto\n",
    "\n",
    "**Descripción:**\n",
    "\n",
    "SetMagic Productions es una empresa especializada en la provisión de servicios integrales para la realización de rodajes cinematográficos y audiovisuales. Nos dedicamos a facilitar tanto el atrezzo necesario para las producciones como los lugares idóneos para llevar a cabo los rodajes, ya sea en entornos al aire libre o en interiores.\n",
    "\n",
    "**Servicios Ofrecidos:**\n",
    "\n",
    "- **Atrezzo Creativo:** Contamos con un extenso catálogo de atrezzo que abarca desde accesorios hasta muebles y objetos temáticos para ambientar cualquier tipo de  escena.\n",
    "\n",
    "- **Locaciones Únicas:** Nuestra empresa ofrece una amplia selección de locaciones, que incluyen desde escenarios naturales como playas, bosques y montañas, hasta espacios interiores como estudios, casas históricas y edificios emblemáticos.\n",
    "- **Servicios de Producción:** Además de proporcionar atrezzo y locaciones, también ofrecemos servicios de producción audiovisual, incluyendo equipos de filmación, personal técnico y servicios de postproducción.\n",
    "\n",
    "**Herramientas y Tecnologías:**\n",
    "\n",
    "Para recopilar información sobre nuevas locaciones y tendencias en atrezzo, utilizamos herramientas de web scraping como Beautiful Soup y Selenium para extraer datos de sitios web relevantes y redes sociales especializadas en cine y producción audiovisual. También integramos APIs de plataformas de alquiler de locaciones y bases de datos de atrezzo para acceder a información actualizada y detallada.\n",
    "\n",
    "**Almacenamiento de Datos:** (A trabajar la próxima semana)\n",
    "\n",
    "La información recopilada mediante web scraping y APIs se almacenará tanto en una base de datos relacional SQL como en una base de datos no relacional MongoDB . Estas base de datos nos permite organizar eficientemente la información sobre locaciones, atrezzo, clientes y proyectos en curso, facilitando su acceso y gestión.\n",
    "\n",
    "**Objetivo:**\n",
    "\n",
    "Nuestro objetivo principal es proporcionar a nuestros clientes una experiencia fluida y personalizada en la búsqueda y selección de locaciones y atrezzo para sus proyectos audiovisuales. Utilizando tecnologías avanzadas y una amplia red de contactos en la industria, nos esforzamos por ofrecer soluciones creativas y de alta calidad que satisfagan las necesidades específicas de cada producción.\n",
    "\n",
    "\n",
    "## Lab: Extracción de Información con Beautiful Soup\n",
    "\n",
    "En este laboratorio seguirás enriqueciendo la base de datos para ofrecer a tus clientes un servicio más completo y personalizado. Para lograr esto, extraerás información valiosa sobre objetos de atrezzo de una web especializada. Utilizarás técnicas de web scraping con la biblioteca **Beautiful Soup** para obtener y organizar los datos de manera eficiente.\n",
    "\n",
    "Trabajarás con la siguiente URL: [Atrezzo Vázquez](https://atrezzovazquez.es/shop.php?search_type=-1&search_terms=&limit=48&page=1). Esta página contiene una gran cantidad de objetos de atrezzo que pueden ser de interés para un proyecto de rodaje. Tu tarea será extraer información relevante de los productos listados en las primeras 100 páginas.\n",
    "\n",
    "1. **Navegación y Extracción de Múltiples Páginas**:\n",
    "\n",
    "   - La página web contiene varios elementos distribuidos en distintas páginas. Tu objetivo será iterar a través de las 100 primeras páginas y extraer la información deseada.\n",
    "\n",
    "   - Debes asegurarte de que tu código sea capaz de navegar automáticamente por estas páginas y extraer datos de manera continua.\n",
    "\n",
    "2. **Verificación del Código de Estado de la Respuesta**:\n",
    "\n",
    "   - Antes de extraer cualquier información, es fundamental verificar que la solicitud a la página web ha sido exitosa. Un código de estado 200 indica que la página se ha cargado correctamente.\n",
    "\n",
    "   - Si el código no es 200, debes imprimir un mensaje de error y detener la ejecución de la extracción para evitar problemas posteriores.\n",
    "\n",
    "3. **Extracción de Información Específica**:\n",
    "\n",
    "   De cada página, deberás extraer los siguientes detalles de los objetos de atrezzo:\n",
    "\n",
    "   - **Nombre del Objeto**: El nombre o identificador del objeto.\n",
    "\n",
    "   - **Categoría**: La categoría en la que se clasifica el objeto (ej.: mobiliario, decorado, utilería, etc.).\n",
    "\n",
    "   - **Sección**: La sección específica dentro de la categoría.\n",
    "\n",
    "   - **Descripción**: Una breve descripción del objeto que puede incluir detalles sobre su estilo, material o uso.\n",
    "\n",
    "   - **Dimensiones**: El tamaño del objeto en formato (largo x ancho x alto).\n",
    "\n",
    "   - **Enlace a la Imagen**: El link a la imagen del objeto, útil para tener una vista previa visual.\n",
    "\n",
    "4. **Organización de los Datos en un Diccionario**:\n",
    "\n",
    "   Una vez extraída la información, deberás organizarla en un diccionario con las siguientes claves:\n",
    "\n",
    "   - `\"nombre\"`: Nombres del objeto.\n",
    "\n",
    "   - `\"categoria\"`: Categoría a la que pertenece el objeto.\n",
    "\n",
    "   - `\"seccion\"`: Sección específica dentro de la categoría.\n",
    "\n",
    "   - `\"descripcion\"`: Breve descripción del objeto.\n",
    "\n",
    "   - `\"dimensiones\"`: Dimensiones del objeto en el formato adecuado.\n",
    "\n",
    "   - `\"imagen\"`: URL de la imagen del objeto.\n",
    "\n",
    "5. **Almacenamiento de la Información en un DataFrame**:\n",
    "\n",
    "   Una vez que tengas toda la información organizada en diccionarios, el siguiente paso es convertirla en un DataFrame de Pandas. Este DataFrame te permitirá manipular y analizar los datos con facilidad. Tu DataFrame debería verse similar al ejemplo proporcionado, donde cada fila representa un objeto diferente y cada columna contiene la información extraída:\n",
    "\n",
    "![Dataframe](https://github.com/Hack-io-Data/Imagenes/blob/main/02-Imagenes/BS/df_atrezzo.png?raw=true)\n",
    "\n",
    "\n",
    "6.  Consideraciones Adicionales:\n",
    "\n",
    "- Asegúrate de manejar posibles errores o excepciones durante el scraping, como tiempos de espera agotados, páginas inaccesibles o datos faltantes.\n",
    "\n",
    "- Recuerda que el scraping debe hacerse de manera respetuosa, evitando sobrecargar el servidor de la página web (puedes usar pausas entre solicitudes).\n",
    "\n",
    "- Finalmente, asegúrate de almacenar el DataFrame en un archivo CSV para que puedas reutilizar esta información en análisis futuros.\n"
   ]
  },
  {
   "cell_type": "markdown",
   "metadata": {},
   "source": []
  },
  {
   "cell_type": "code",
   "execution_count": 2,
   "metadata": {},
   "outputs": [
    {
     "name": "stderr",
     "output_type": "stream",
     "text": [
      "/Users/davidfranco/Library/Python/3.9/lib/python/site-packages/urllib3/__init__.py:35: NotOpenSSLWarning: urllib3 v2 only supports OpenSSL 1.1.1+, currently the 'ssl' module is compiled with 'LibreSSL 2.8.3'. See: https://github.com/urllib3/urllib3/issues/3020\n",
      "  warnings.warn(\n"
     ]
    }
   ],
   "source": [
    "\n",
    "from time import sleep\n",
    "# Librerías de extracción de datos\n",
    "# -----------------------------------------------------------------------\n",
    "from bs4 import BeautifulSoup\n",
    "import requests\n",
    "\n",
    "# Tratamiento de datos\n",
    "# -----------------------------------------------------------------------\n",
    "import pandas as pd\n",
    "import numpy as np\n",
    "from tqdm import tqdm"
   ]
  },
  {
   "cell_type": "code",
   "execution_count": 2,
   "metadata": {},
   "outputs": [
    {
     "name": "stdout",
     "output_type": "stream",
     "text": [
      "200\n"
     ]
    }
   ],
   "source": [
    "# Creamos la sopa (el html de la web)\n",
    "\n",
    "url_atrezzo = \"https://atrezzovazquez.es/shop.php?search_type=-1&search_terms=&limit=48&page=1\"\n",
    "\n",
    "res_atrezzo = requests.get(url_atrezzo)\n",
    "print(res_atrezzo.status_code)\n",
    "\n",
    "sopa_atrezzo = BeautifulSoup(res_atrezzo.content, \"html.parser\")\n"
   ]
  },
  {
   "cell_type": "code",
   "execution_count": 3,
   "metadata": {},
   "outputs": [],
   "source": [
    "lista_prod_cat = sopa_atrezzo.findAll(\"div\", {\"class\":\"product-slide-entry shift-image\"})"
   ]
  },
  {
   "cell_type": "code",
   "execution_count": 4,
   "metadata": {},
   "outputs": [],
   "source": [
    "nombres_productos = []\n",
    "categorias_productos = []\n",
    "\n",
    "for producto in lista_prod_cat:\n",
    "    try:\n",
    "        nombre = producto.findAll(\"a\", {\"class\": \"title\"})[0].getText()\n",
    "        nombres_productos.append(nombre.getText())\n",
    "\n",
    "    except:\n",
    "        nombres_productos.append(np.nan)\n",
    "\n",
    "    try:\n",
    "        categoria = producto.findAll(\"a\", {\"class\": \"tag\"})[0].getText()\n",
    "        categorias_productos.append(categoria.getText())\n",
    "        \n",
    "    except:\n",
    "        categorias_productos.append(np.nan)\n"
   ]
  },
  {
   "cell_type": "code",
   "execution_count": 5,
   "metadata": {},
   "outputs": [
    {
     "data": {
      "text/plain": [
       "48"
      ]
     },
     "execution_count": 5,
     "metadata": {},
     "output_type": "execute_result"
    }
   ],
   "source": [
    "len(categorias_productos)"
   ]
  },
  {
   "cell_type": "code",
   "execution_count": 6,
   "metadata": {},
   "outputs": [
    {
     "data": {
      "text/plain": [
       "48"
      ]
     },
     "execution_count": 6,
     "metadata": {},
     "output_type": "execute_result"
    }
   ],
   "source": [
    "len(nombres_productos)"
   ]
  },
  {
   "cell_type": "code",
   "execution_count": 65,
   "metadata": {},
   "outputs": [],
   "source": [
    "lista_secciones = sopa_atrezzo.findAll(\"div\", {\"class\":\"cat-sec-box\"})\n",
    "\n",
    "secciones_productos = []\n",
    "\n",
    "for seccion in lista_secciones:\n",
    "    if len(seccion.getText()) > 1: # hay resultados\n",
    "        secciones_productos.append(seccion.getText())\n",
    "\n",
    "    else:\n",
    "        secciones_productos.append(np.nan)"
   ]
  },
  {
   "cell_type": "code",
   "execution_count": 66,
   "metadata": {},
   "outputs": [
    {
     "data": {
      "text/plain": [
       "48"
      ]
     },
     "execution_count": 66,
     "metadata": {},
     "output_type": "execute_result"
    }
   ],
   "source": [
    "len(secciones_productos)"
   ]
  },
  {
   "cell_type": "code",
   "execution_count": 67,
   "metadata": {},
   "outputs": [],
   "source": [
    "lista_descripciones = sopa_atrezzo.findAll(\"p\")\n",
    "descripciones_productos = []\n",
    "\n",
    "for descripcion in lista_descripciones:\n",
    "    descripciones_productos.append(descripcion.getText())\n",
    "\n",
    "descripciones_productos = descripciones_productos[:48]\n",
    "# Puedo quedarme con los primeros 48 porque sé que los últimos siempre están vacíos"
   ]
  },
  {
   "cell_type": "code",
   "execution_count": 68,
   "metadata": {},
   "outputs": [
    {
     "data": {
      "text/plain": [
       "48"
      ]
     },
     "execution_count": 68,
     "metadata": {},
     "output_type": "execute_result"
    }
   ],
   "source": [
    "len(descripciones_productos)"
   ]
  },
  {
   "cell_type": "code",
   "execution_count": 69,
   "metadata": {},
   "outputs": [],
   "source": [
    "lista_dimensiones = sopa_atrezzo.findAll(\"div\", {\"class\": \"price\"})\n",
    "dimensiones_productos = []\n",
    "\n",
    "for dimension in lista_dimensiones:\n",
    "    dimensiones_productos.append(dimension.getText())"
   ]
  },
  {
   "cell_type": "code",
   "execution_count": 70,
   "metadata": {},
   "outputs": [
    {
     "data": {
      "text/plain": [
       "48"
      ]
     },
     "execution_count": 70,
     "metadata": {},
     "output_type": "execute_result"
    }
   ],
   "source": [
    "len(dimensiones_productos)"
   ]
  },
  {
   "cell_type": "code",
   "execution_count": 71,
   "metadata": {},
   "outputs": [],
   "source": [
    "lista_imagenes = sopa_atrezzo.findAll(\"div\", {\"class\": \"product-image\"})\n",
    "\n",
    "imagenes_productos = []\n",
    "\n",
    "for imagen in lista_imagenes:\n",
    "    try:\n",
    "        link = imagen.findAll(\"img\")[0].get(\"srtc\")\n",
    "        imagenes_productos.append(link)\n",
    "\n",
    "    except:\n",
    "        imagenes_productos.append(np.nan)\n"
   ]
  },
  {
   "cell_type": "code",
   "execution_count": 72,
   "metadata": {},
   "outputs": [
    {
     "data": {
      "text/plain": [
       "48"
      ]
     },
     "execution_count": 72,
     "metadata": {},
     "output_type": "execute_result"
    }
   ],
   "source": [
    "len(imagenes_productos)"
   ]
  },
  {
   "cell_type": "code",
   "execution_count": 11,
   "metadata": {},
   "outputs": [
    {
     "name": "stderr",
     "output_type": "stream",
     "text": [
      " 25%|██▌       | 1/4 [00:00<00:01,  2.68it/s]"
     ]
    },
    {
     "name": "stdout",
     "output_type": "stream",
     "text": [
      "Status code: 200\n",
      "nombres: 48\n",
      "productos: 48\n",
      "48\n",
      "48\n",
      "48\n"
     ]
    },
    {
     "name": "stderr",
     "output_type": "stream",
     "text": [
      " 50%|█████     | 2/4 [00:00<00:00,  2.59it/s]"
     ]
    },
    {
     "name": "stdout",
     "output_type": "stream",
     "text": [
      "Status code: 200\n",
      "nombres: 48\n",
      "productos: 48\n",
      "48\n",
      "48\n",
      "48\n"
     ]
    },
    {
     "name": "stderr",
     "output_type": "stream",
     "text": [
      " 75%|███████▌  | 3/4 [00:01<00:00,  2.62it/s]"
     ]
    },
    {
     "name": "stdout",
     "output_type": "stream",
     "text": [
      "Status code: 200\n",
      "nombres: 48\n",
      "productos: 48\n",
      "48\n",
      "48\n",
      "48\n"
     ]
    },
    {
     "name": "stderr",
     "output_type": "stream",
     "text": [
      "100%|██████████| 4/4 [00:01<00:00,  2.67it/s]"
     ]
    },
    {
     "name": "stdout",
     "output_type": "stream",
     "text": [
      "Status code: 200\n",
      "nombres: 48\n",
      "productos: 48\n",
      "48\n",
      "48\n",
      "48\n"
     ]
    },
    {
     "name": "stderr",
     "output_type": "stream",
     "text": [
      "\n"
     ]
    },
    {
     "data": {
      "text/html": [
       "<div>\n",
       "<style scoped>\n",
       "    .dataframe tbody tr th:only-of-type {\n",
       "        vertical-align: middle;\n",
       "    }\n",
       "\n",
       "    .dataframe tbody tr th {\n",
       "        vertical-align: top;\n",
       "    }\n",
       "\n",
       "    .dataframe thead th {\n",
       "        text-align: right;\n",
       "    }\n",
       "</style>\n",
       "<table border=\"1\" class=\"dataframe\">\n",
       "  <thead>\n",
       "    <tr style=\"text-align: right;\">\n",
       "      <th></th>\n",
       "      <th>nombre</th>\n",
       "      <th>categoría</th>\n",
       "      <th>descripción</th>\n",
       "      <th>sección</th>\n",
       "      <th>url</th>\n",
       "    </tr>\n",
       "  </thead>\n",
       "  <tbody>\n",
       "    <tr>\n",
       "      <th>0</th>\n",
       "      <td>ALF1</td>\n",
       "      <td>Alfombra</td>\n",
       "      <td>Alfombra persa marrón (tiene unas manchas que ...</td>\n",
       "      <td>Arabe</td>\n",
       "      <td>admin/img_prod/ALF1/ALF1-720x540.png</td>\n",
       "    </tr>\n",
       "    <tr>\n",
       "      <th>1</th>\n",
       "      <td>ADO1</td>\n",
       "      <td>Adornos</td>\n",
       "      <td>Vitrina con abanico</td>\n",
       "      <td>NaN</td>\n",
       "      <td>admin/img_prod/ADO1/ADO1-720x540.png</td>\n",
       "    </tr>\n",
       "    <tr>\n",
       "      <th>2</th>\n",
       "      <td>AFC1</td>\n",
       "      <td>Alfombra de cama</td>\n",
       "      <td>Alfombrín de cama círculos azules</td>\n",
       "      <td>Dormitorio</td>\n",
       "      <td>admin/img_prod/AFC1/AFC1-720x540.png</td>\n",
       "    </tr>\n",
       "    <tr>\n",
       "      <th>3</th>\n",
       "      <td>AP1</td>\n",
       "      <td>Aparador</td>\n",
       "      <td>Aparador alemán 2 cuerpos</td>\n",
       "      <td>Alemán  Comedor</td>\n",
       "      <td>admin/img_prod/AP1/AP1-720x540.png</td>\n",
       "    </tr>\n",
       "    <tr>\n",
       "      <th>4</th>\n",
       "      <td>AST1</td>\n",
       "      <td>Atrezzo astronomia</td>\n",
       "      <td>Pie de madera para astrolabio</td>\n",
       "      <td>Astronomía</td>\n",
       "      <td>admin/img_prod/AST1/AST1-pie-720x540.png</td>\n",
       "    </tr>\n",
       "    <tr>\n",
       "      <th>5</th>\n",
       "      <td>TOR1</td>\n",
       "      <td>Tortura</td>\n",
       "      <td>Silla eléctrica figurada</td>\n",
       "      <td>Carcel</td>\n",
       "      <td>admin/img_prod/TOR1/TOR1-1-720x540.png</td>\n",
       "    </tr>\n",
       "    <tr>\n",
       "      <th>6</th>\n",
       "      <td>ARC1</td>\n",
       "      <td>Arcon</td>\n",
       "      <td>Arcón talla figuras vascas con tablero</td>\n",
       "      <td>Dormitorio</td>\n",
       "      <td>admin/img_prod/ARC1/ARC1-1-720x540.png</td>\n",
       "    </tr>\n",
       "    <tr>\n",
       "      <th>7</th>\n",
       "      <td>AR1</td>\n",
       "      <td>Armario</td>\n",
       "      <td>Armario raíz y caoba 2 puertas espejo y cajones</td>\n",
       "      <td>Dormitorio</td>\n",
       "      <td>admin/img_prod/AR1/AR1-720x540.png</td>\n",
       "    </tr>\n",
       "    <tr>\n",
       "      <th>8</th>\n",
       "      <td>ARM1</td>\n",
       "      <td>Armero</td>\n",
       "      <td>Armero para fusiles con cajones</td>\n",
       "      <td>Militar</td>\n",
       "      <td>admin/img_prod/ARM1/ARM1-1-720x540.png</td>\n",
       "    </tr>\n",
       "    <tr>\n",
       "      <th>9</th>\n",
       "      <td>ATD1</td>\n",
       "      <td>Ataud</td>\n",
       "      <td>Ataúd de niño pintado crema con cruz</td>\n",
       "      <td>NaN</td>\n",
       "      <td>admin/img_prod/ATD1/ATD1-1-720x540.png</td>\n",
       "    </tr>\n",
       "    <tr>\n",
       "      <th>10</th>\n",
       "      <td>ATR1</td>\n",
       "      <td>Atril</td>\n",
       "      <td>Atril facistol columna torneada</td>\n",
       "      <td>Religioso</td>\n",
       "      <td>admin/img_prod/ATR1/ATR1-1-720x540.png</td>\n",
       "    </tr>\n",
       "    <tr>\n",
       "      <th>11</th>\n",
       "      <td>BL1</td>\n",
       "      <td>Balancin</td>\n",
       "      <td>Balancín de jardín 2 cojines</td>\n",
       "      <td>Columpio  Jardín</td>\n",
       "      <td>admin/img_prod/BL1/BL1-1-720x540.png</td>\n",
       "    </tr>\n",
       "    <tr>\n",
       "      <th>12</th>\n",
       "      <td>BAC1</td>\n",
       "      <td>Banco</td>\n",
       "      <td>Banco portugués respaldo alto torneado</td>\n",
       "      <td>Portugues</td>\n",
       "      <td>admin/img_prod/BAC1/BAC1-1-720x540.png</td>\n",
       "    </tr>\n",
       "    <tr>\n",
       "      <th>13</th>\n",
       "      <td>BAN1</td>\n",
       "      <td>Banqueta</td>\n",
       "      <td>Banqueta bambú cuadrada</td>\n",
       "      <td>Bambú  Jardín</td>\n",
       "      <td>admin/img_prod/BAN1/BAN1-1-720x540.png</td>\n",
       "    </tr>\n",
       "    <tr>\n",
       "      <th>14</th>\n",
       "      <td>M1</td>\n",
       "      <td>Mesa</td>\n",
       "      <td>Mesa jardín de rejilla tapa cristal</td>\n",
       "      <td>Jardín</td>\n",
       "      <td>admin/img_prod/M1/M1-1-720x540.png</td>\n",
       "    </tr>\n",
       "    <tr>\n",
       "      <th>15</th>\n",
       "      <td>BA1</td>\n",
       "      <td>Baño</td>\n",
       "      <td>Bañera hierro fundido con patas garras doradas</td>\n",
       "      <td>Bañera</td>\n",
       "      <td>admin/img_prod/BA1/BA1-1-720x540.png</td>\n",
       "    </tr>\n",
       "    <tr>\n",
       "      <th>16</th>\n",
       "      <td>BAR1</td>\n",
       "      <td>Bargueño</td>\n",
       "      <td>Bargueño gótico con tapa hierros con pie</td>\n",
       "      <td>Gótico</td>\n",
       "      <td>admin/img_prod/BAR1/BAR1-1-720x540.png</td>\n",
       "    </tr>\n",
       "    <tr>\n",
       "      <th>17</th>\n",
       "      <td>BRL1</td>\n",
       "      <td>Barril</td>\n",
       "      <td>Barril de madera grande</td>\n",
       "      <td>Bar y cafetería  Rústico</td>\n",
       "      <td>admin/img_prod/BRL1/BRL1-1-720x540.png</td>\n",
       "    </tr>\n",
       "    <tr>\n",
       "      <th>18</th>\n",
       "      <td>BAS1</td>\n",
       "      <td>Bascula</td>\n",
       "      <td>Báscula de farmacia forrada imitación madera</td>\n",
       "      <td>Farmacia  Hospital</td>\n",
       "      <td>admin/img_prod/BAS1/BAS1-1-720x540.png</td>\n",
       "    </tr>\n",
       "    <tr>\n",
       "      <th>19</th>\n",
       "      <td>BAU1</td>\n",
       "      <td>Baul</td>\n",
       "      <td>Baúl armario americano verde</td>\n",
       "      <td>Americano  Viaje</td>\n",
       "      <td>admin/img_prod/BAU1/BAU1-1-720x540.png</td>\n",
       "    </tr>\n",
       "  </tbody>\n",
       "</table>\n",
       "</div>"
      ],
      "text/plain": [
       "   nombre           categoría  \\\n",
       "0    ALF1            Alfombra   \n",
       "1    ADO1             Adornos   \n",
       "2    AFC1    Alfombra de cama   \n",
       "3     AP1            Aparador   \n",
       "4    AST1  Atrezzo astronomia   \n",
       "5    TOR1             Tortura   \n",
       "6    ARC1               Arcon   \n",
       "7     AR1             Armario   \n",
       "8    ARM1              Armero   \n",
       "9    ATD1               Ataud   \n",
       "10   ATR1               Atril   \n",
       "11    BL1            Balancin   \n",
       "12   BAC1               Banco   \n",
       "13   BAN1            Banqueta   \n",
       "14     M1                Mesa   \n",
       "15    BA1                Baño   \n",
       "16   BAR1            Bargueño   \n",
       "17   BRL1              Barril   \n",
       "18   BAS1             Bascula   \n",
       "19   BAU1                Baul   \n",
       "\n",
       "                                          descripción  \\\n",
       "0   Alfombra persa marrón (tiene unas manchas que ...   \n",
       "1                                 Vitrina con abanico   \n",
       "2                   Alfombrín de cama círculos azules   \n",
       "3                           Aparador alemán 2 cuerpos   \n",
       "4                       Pie de madera para astrolabio   \n",
       "5                            Silla eléctrica figurada   \n",
       "6              Arcón talla figuras vascas con tablero   \n",
       "7     Armario raíz y caoba 2 puertas espejo y cajones   \n",
       "8                     Armero para fusiles con cajones   \n",
       "9                Ataúd de niño pintado crema con cruz   \n",
       "10                    Atril facistol columna torneada   \n",
       "11                       Balancín de jardín 2 cojines   \n",
       "12             Banco portugués respaldo alto torneado   \n",
       "13                            Banqueta bambú cuadrada   \n",
       "14                Mesa jardín de rejilla tapa cristal   \n",
       "15     Bañera hierro fundido con patas garras doradas   \n",
       "16           Bargueño gótico con tapa hierros con pie   \n",
       "17                            Barril de madera grande   \n",
       "18       Báscula de farmacia forrada imitación madera   \n",
       "19                       Baúl armario americano verde   \n",
       "\n",
       "                       sección                                       url  \n",
       "0                      Arabe        admin/img_prod/ALF1/ALF1-720x540.png  \n",
       "1                          NaN      admin/img_prod/ADO1/ADO1-720x540.png  \n",
       "2                 Dormitorio        admin/img_prod/AFC1/AFC1-720x540.png  \n",
       "3            Alemán  Comedor          admin/img_prod/AP1/AP1-720x540.png  \n",
       "4                 Astronomía    admin/img_prod/AST1/AST1-pie-720x540.png  \n",
       "5                     Carcel      admin/img_prod/TOR1/TOR1-1-720x540.png  \n",
       "6                 Dormitorio      admin/img_prod/ARC1/ARC1-1-720x540.png  \n",
       "7                 Dormitorio          admin/img_prod/AR1/AR1-720x540.png  \n",
       "8                    Militar      admin/img_prod/ARM1/ARM1-1-720x540.png  \n",
       "9                          NaN    admin/img_prod/ATD1/ATD1-1-720x540.png  \n",
       "10                 Religioso      admin/img_prod/ATR1/ATR1-1-720x540.png  \n",
       "11          Columpio  Jardín        admin/img_prod/BL1/BL1-1-720x540.png  \n",
       "12                 Portugues      admin/img_prod/BAC1/BAC1-1-720x540.png  \n",
       "13             Bambú  Jardín      admin/img_prod/BAN1/BAN1-1-720x540.png  \n",
       "14                    Jardín          admin/img_prod/M1/M1-1-720x540.png  \n",
       "15                    Bañera        admin/img_prod/BA1/BA1-1-720x540.png  \n",
       "16                    Gótico      admin/img_prod/BAR1/BAR1-1-720x540.png  \n",
       "17  Bar y cafetería  Rústico      admin/img_prod/BRL1/BRL1-1-720x540.png  \n",
       "18        Farmacia  Hospital      admin/img_prod/BAS1/BAS1-1-720x540.png  \n",
       "19          Americano  Viaje      admin/img_prod/BAU1/BAU1-1-720x540.png  "
      ]
     },
     "execution_count": 11,
     "metadata": {},
     "output_type": "execute_result"
    }
   ],
   "source": [
    "df_completo = pd.DataFrame()\n",
    "\n",
    "for page in tqdm(range(1,5)):\n",
    "    url_atrezzo = f\"https://atrezzovazquez.es/shop.php?search_type=-1&search_terms=&limit=48&page={page}\"\n",
    "    res_atrezzo = requests.get(url_atrezzo)\n",
    "    \n",
    "    if res_atrezzo.status_code != 200:\n",
    "        print(\"Se ha producido un error\")\n",
    "        break\n",
    "    print(f\"Status code: {res_atrezzo.status_code}\")\n",
    "    \n",
    "    sopa_atrezzo = BeautifulSoup(res_atrezzo.content, \"html.parser\")\n",
    "\n",
    "    # nombre y cat\n",
    "    \n",
    "    lista_prod_cat = sopa_atrezzo.findAll(\"div\", {\"class\":\"product-slide-entry shift-image\"}) \n",
    "\n",
    "    nombres_productos = []\n",
    "    categorias_productos = []\n",
    "\n",
    "    for producto in lista_prod_cat:\n",
    "        try:\n",
    "            nombre = producto.findAll(\"a\", {\"class\": \"title\"})[0].getText()\n",
    "            nombres_productos.append(nombre)\n",
    "        except:\n",
    "            nombres_productos.append(np.nan)\n",
    "        \n",
    "        try:\n",
    "            categoria = producto.findAll(\"a\", {\"class\": \"tag\"})[0].getText()\n",
    "            categorias_productos.append(categoria)\n",
    "        except:\n",
    "            categorias_productos.append(np.nan)\n",
    "\n",
    "    print(f\"nombres: {len(nombres_productos)}\")\n",
    "    print(f\"productos: {len(categorias_productos)}\")\n",
    "\n",
    "    # sección\n",
    "    lista_secciones = sopa_atrezzo.findAll(\"div\", {\"class\": \"cat-sec-box\"})\n",
    "    secciones_productos = []\n",
    "    for seccion in lista_secciones:\n",
    "        if len(seccion.getText()) > 1:  # hay resultados\n",
    "            secciones_productos.append(seccion.getText())\n",
    "        else:\n",
    "            secciones_productos.append(np.nan)\n",
    "    print(f\"{len(secciones_productos)}\")\n",
    "    \n",
    "    # descripción\n",
    "    lista_descripciones = sopa_atrezzo.findAll(\"p\")\n",
    "    descripciones_productos = []\n",
    "\n",
    "    for descripcion in lista_descripciones:\n",
    "        descripciones_productos.append(descripcion.getText())\n",
    "        descripciones_productos = descripciones_productos[:48]\n",
    "    \n",
    "    print(f\"{len(descripciones_productos)}\")\n",
    "\n",
    "\n",
    "    # link imagen\n",
    "    lista_imagenes = sopa_atrezzo.findAll(\"div\", {\"class\": \"product-image\"})\n",
    "    imagenes_productos = []\n",
    "    for imagen in lista_imagenes:\n",
    "        try:\n",
    "            link = imagen.findAll(\"img\")[0].get(\"src\")\n",
    "            imagenes_productos.append(link)\n",
    "        except:\n",
    "            imagenes_productos.append(np.nan)\n",
    "    \n",
    "    print(f\"{len(imagenes_productos)}\")\n",
    "    \n",
    "    \n",
    "    df_atrezzo = pd.DataFrame({\n",
    "        \"nombre\": nombres_productos,\n",
    "        \"categoría\": categorias_productos,\n",
    "        \"descripción\": descripciones_productos,\n",
    "        \"sección\": secciones_productos,\n",
    "        \"url\": imagenes_productos\n",
    "    })\n",
    "    \n",
    "    df_completo = pd.concat([df_completo, df_atrezzo])\n",
    "\n",
    "df_completo.head(20)\n"
   ]
  }
 ],
 "metadata": {
  "kernelspec": {
   "display_name": "Python 3",
   "language": "python",
   "name": "python3"
  },
  "language_info": {
   "codemirror_mode": {
    "name": "ipython",
    "version": 3
   },
   "file_extension": ".py",
   "mimetype": "text/x-python",
   "name": "python",
   "nbconvert_exporter": "python",
   "pygments_lexer": "ipython3",
   "version": "3.9.6"
  }
 },
 "nbformat": 4,
 "nbformat_minor": 2
}
